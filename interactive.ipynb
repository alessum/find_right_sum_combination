{
 "cells": [
  {
   "cell_type": "markdown",
   "id": "6d382928",
   "metadata": {},
   "source": [
    "## Interactive version:\n",
    "\n",
    "#### Requirements:\n",
    "To correctly run the script <code>qiskit</code>, <code>matplotlib</code>, <code>pylatexenc</code>, <code>ipynb</code> and <code>ipywidgets</code> have to be installed. \n",
    "\n",
    "#### Inputs:\n",
    "<ol>\n",
    "    <li> <code>numbers</code>: list of integers </li>\n",
    "    <li> <code>solution</code>: the number we want our sums to be equal to </li>\n",
    "    <li> <code>method</code>: a string selecting the method to create combinations </li>\n",
    "        </ol>"
   ]
  },
  {
   "cell_type": "markdown",
   "id": "8c68bf48",
   "metadata": {},
   "source": [
    "## Import libraries:\n",
    "(tools.ipynb has to be in the same folder as adder)"
   ]
  },
  {
   "cell_type": "code",
   "execution_count": 1,
   "id": "f11aeaed",
   "metadata": {
    "scrolled": true
   },
   "outputs": [],
   "source": [
    "from qiskit import QuantumCircuit, Aer, execute, QuantumRegister\n",
    "\n",
    "import numpy as np\n",
    "from qiskit.visualization import plot_histogram\n",
    "\n",
    "from ipynb.fs.full.tools import adder, qft_1, count, w, sel\n",
    "from ipywidgets import interact_manual, widgets"
   ]
  },
  {
   "cell_type": "markdown",
   "id": "c9697539",
   "metadata": {},
   "source": [
    "## The entire algorithm:"
   ]
  },
  {
   "cell_type": "code",
   "execution_count": 2,
   "id": "fa22e0a4",
   "metadata": {},
   "outputs": [],
   "source": [
    "style = {'displaycolor': {'qtf-1':   ('#34495E', '#FFFFFF'),\n",
    "                          (' SEL '):   ('#E67E22', '#FFFFFF'),\n",
    "                          'h':   ('#2980B9', '#FFFFFF'),},\n",
    "         'displaytext' : {'qtf-1': \"\\quad \\mathrm{QFT}^{\\dagger}.\"},\n",
    "         'gatefacecolor' : '#27AE60',\n",
    "         'gatetextcolor' : '#FFFFFF'}\n",
    "\n",
    "def find_that(numbers, solution, method):\n",
    "    #convert 'numbers' to a list of int\n",
    "    numbers = list(map(int, numbers.split()))\n",
    "    # filter numbers bigger than the final solution we want\n",
    "    numbers = list(filter(lambda x: x <= solution, numbers))\n",
    "\n",
    "    # compute the number of required qubits\n",
    "    sum_num = sum(numbers)\n",
    "    bit_sum = int(np.log2(sum_num)) + 1\n",
    "    n = len(numbers) + bit_sum\n",
    "\n",
    "    qr = QuantumRegister(len(numbers), 'q')\n",
    "    qa = QuantumRegister(bit_sum, 'a')\n",
    "    qc = QuantumCircuit(qr, qa)\n",
    "\n",
    "    # implement the SEL gate\n",
    "    qc.sel(len(numbers), method)\n",
    "    # implement the Hadamard transform\n",
    "    qc.h(qa)\n",
    "    # implement c-P gates\n",
    "    qc.adder(bit_sum, numbers)\n",
    "    # implement the QFT-1\n",
    "    qc.qft_1(qa)\n",
    "    # extract the measure\n",
    "    counts = count(qc)\n",
    "    # filter states equal to 'solution'\n",
    "    filtered = [(k[bit_sum:], v) for k, v in counts.items() if k[:bit_sum] == ('{0:0'+str(bit_sum)+'b}').format(solution)]\n",
    "\n",
    "    str_final = 'Solutions: '\n",
    "    for sol in filtered:\n",
    "        combination = []\n",
    "        for i in range(len(numbers)):\n",
    "            if sol[0][i] == '1':\n",
    "                combination.append(str(numbers[::-1][i]))\n",
    "        str_final = str_final + '\\n> ' + '+'.join(combination)\n",
    "\n",
    "    qc.draw(output='mpl', style=style)\n",
    "    \n",
    "    return print(str_final)"
   ]
  },
  {
   "cell_type": "markdown",
   "id": "89e339ed",
   "metadata": {},
   "source": [
    "## Insert the set of `numbers` and the `method` we want to use to find `solution` :"
   ]
  },
  {
   "cell_type": "code",
   "execution_count": 3,
   "id": "f90d32e3",
   "metadata": {},
   "outputs": [
    {
     "name": "stdout",
     "output_type": "stream",
     "text": [
      "Using matplotlib backend: <object object at 0x7f85b0847ff0>\n"
     ]
    }
   ],
   "source": [
    "%matplotlib"
   ]
  },
  {
   "cell_type": "code",
   "execution_count": 4,
   "id": "a0dff77d",
   "metadata": {},
   "outputs": [
    {
     "data": {
      "application/vnd.jupyter.widget-view+json": {
       "model_id": "7f924bf246214485a7003df5f9b0f1c2",
       "version_major": 2,
       "version_minor": 0
      },
      "text/plain": [
       "interactive(children=(Text(value='5 7 8 9', description='numbers'), IntSlider(value=16, description='solution'…"
      ]
     },
     "metadata": {},
     "output_type": "display_data"
    }
   ],
   "source": [
    "i = interact_manual(find_that, solution=widgets.IntSlider(min=1, max=50, step=1, value=16), \n",
    "                    numbers='5 7 8 9', \n",
    "                    method=['hilbert', 'w state', 'w state-x'])"
   ]
  },
  {
   "cell_type": "code",
   "execution_count": 5,
   "id": "f3cff08a",
   "metadata": {},
   "outputs": [
    {
     "data": {
      "text/html": [
       "<h3>Version Information</h3><table><tr><th>Qiskit Software</th><th>Version</th></tr><tr><td><code>qiskit-terra</code></td><td>0.19.2</td></tr><tr><td><code>qiskit-aer</code></td><td>0.10.3</td></tr><tr><td><code>qiskit-ignis</code></td><td>0.7.0</td></tr><tr><td><code>qiskit-ibmq-provider</code></td><td>0.18.3</td></tr><tr><td><code>qiskit</code></td><td>0.34.2</td></tr><tr><th>System information</th></tr><tr><td>Python version</td><td>3.9.7</td></tr><tr><td>Python compiler</td><td>Clang 10.0.0 </td></tr><tr><td>Python build</td><td>default, Sep 16 2021 08:50:36</td></tr><tr><td>OS</td><td>Darwin</td></tr><tr><td>CPUs</td><td>6</td></tr><tr><td>Memory (Gb)</td><td>16.0</td></tr><tr><td colspan='2'>Thu Feb 24 21:51:35 2022 GMT</td></tr></table>"
      ],
      "text/plain": [
       "<IPython.core.display.HTML object>"
      ]
     },
     "metadata": {},
     "output_type": "display_data"
    }
   ],
   "source": [
    "import qiskit.tools.jupyter\n",
    "%qiskit_version_table"
   ]
  }
 ],
 "metadata": {
  "kernelspec": {
   "display_name": "Python 3 (ipykernel)",
   "language": "python",
   "name": "python3"
  },
  "language_info": {
   "codemirror_mode": {
    "name": "ipython",
    "version": 3
   },
   "file_extension": ".py",
   "mimetype": "text/x-python",
   "name": "python",
   "nbconvert_exporter": "python",
   "pygments_lexer": "ipython3",
   "version": "3.9.7"
  }
 },
 "nbformat": 4,
 "nbformat_minor": 5
}
