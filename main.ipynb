{
 "cells": [
  {
   "cell_type": "markdown",
   "id": "08904a04",
   "metadata": {},
   "source": [
    "# Task $n^\\circ$ 1 \n",
    "To correctly run the script <code>pylatexenc</code>, <code>qiskit</code>, <code>ipynb</code> have to be installed. \n"
   ]
  },
  {
   "cell_type": "markdown",
   "id": "89ee8e7a",
   "metadata": {},
   "source": [
    "## Import the libraries:\n",
    "(tools.ipynb has to be in the same folder as adder)"
   ]
  },
  {
   "cell_type": "code",
   "execution_count": 55,
   "id": "f11aeaed",
   "metadata": {
    "scrolled": true
   },
   "outputs": [],
   "source": [
    "from qiskit import QuantumCircuit, Aer, execute, QuantumRegister\n",
    "import qiskit.quantum_info as qi\n",
    "import math\n",
    "import numpy as np\n",
    "from qiskit.visualization import plot_histogram\n",
    "from ipynb.fs.full.tools import adder, qft_1, count, w"
   ]
  },
  {
   "cell_type": "markdown",
   "id": "9137dbf8",
   "metadata": {},
   "source": [
    "## Insert the set of numbers and the sum we want to find:"
   ]
  },
  {
   "cell_type": "code",
   "execution_count": null,
   "id": "3d74d017",
   "metadata": {},
   "outputs": [],
   "source": [
    "numbers = [5,7,8,9,1]\n",
    "solution = 16"
   ]
  },
  {
   "cell_type": "markdown",
   "id": "6eeed1f7",
   "metadata": {},
   "source": [
    "## Initialise the circuit:"
   ]
  },
  {
   "cell_type": "code",
   "execution_count": 61,
   "id": "05e507ba",
   "metadata": {},
   "outputs": [],
   "source": [
    "# We filter numbers bigger than the final solution we want\n",
    "numbers = list(filter(lambda x: x <= solution, numbers))\n",
    "\n",
    "# \n",
    "sum_num = sum(numbers)\n",
    "bit_sum = int(np.log2(sum_num)) + 1\n",
    "n = len(numbers) + bit_sum\n",
    "\n",
    "qr = QuantumRegister(len(numbers), 'q')\n",
    "qa = QuantumRegister(bit_sum, 'a')\n",
    "qc = QuantumCircuit(qr, qa)"
   ]
  },
  {
   "cell_type": "code",
   "execution_count": 62,
   "id": "a0026bb3",
   "metadata": {},
   "outputs": [],
   "source": [
    "#Choose the set of combination you want to try:\n",
    "\n",
    "#All the possible combinations:\n",
    "qc.h(range(len(numbers)))\n",
    "\n",
    "#Only one item at a time: eg: [5,7,8,9,1], 9 -> 9\n",
    "#qc.w_state(range(len(numbers)))\n",
    "\n",
    "#All items but not 1: eg: [2,9,1,3,5], 11 -> 2+9+1+3+5\n",
    "#qc.w_state(range(len(numbers)))\n",
    "#qc.x(range(len(numbers)))\n",
    "\n",
    "\n",
    "qc.h(range(len(numbers), bit_sum + len(numbers)))\n",
    "qc.adder(bit_sum, numbers)\n",
    "qc.qft_1(range(len(numbers),len(numbers)+bit_sum))"
   ]
  },
  {
   "cell_type": "code",
   "execution_count": 63,
   "id": "790cf2a3",
   "metadata": {},
   "outputs": [],
   "source": [
    "counts = count(qc)\n",
    "filtered = [(k[bit_sum:], v) for k, v in counts.items() if k[:bit_sum] == ('{0:0'+str(bit_sum)+'b}').format(solution)]"
   ]
  },
  {
   "cell_type": "code",
   "execution_count": 64,
   "id": "aec6570c",
   "metadata": {},
   "outputs": [
    {
     "name": "stdout",
     "output_type": "stream",
     "text": [
      "Solutions:\n",
      ">  1+8\n"
     ]
    }
   ],
   "source": [
    "print('Solutions:')\n",
    "for sol in filtered:\n",
    "    combination = []\n",
    "    for i in range(len(numbers)):\n",
    "        if sol[0][i] == '1':\n",
    "            combination.append(str(numbers[::-1][i]))\n",
    "    print('> ', '+'.join(combination))"
   ]
  },
  {
   "cell_type": "code",
   "execution_count": 60,
   "id": "a4cc260a",
   "metadata": {},
   "outputs": [
    {
     "data": {
      "image/png": "[encoded data removed]",
      "text/plain": [
       "<Figure size 989.597x626.08 with 1 Axes>"
      ]
     },
     "execution_count": 60,
     "metadata": {},
     "output_type": "execute_result"
    }
   ],
   "source": [
    "style = {'displaycolor': {'qtf-1':   ('#34495E', '#FFFFFF'),\n",
    "                          (' W-'+str(len(numbers))+' '):   ('#E67E22', '#FFFFFF'),\n",
    "                          'h':   ('#2980B9', '#FFFFFF'),},\n",
    "         'displaytext' : {'qtf-1': \"\\quad \\\\mathrm{QFT}^{\\dagger}.\"},\n",
    "         'gatefacecolor' : '#27AE60',\n",
    "         'gatetextcolor' : '#FFFFFF'}\n",
    "qc.draw(output='mpl', style=style)"
   ]
  },
  {
   "cell_type": "code",
   "execution_count": 71,
   "id": "f3cff08a",
   "metadata": {},
   "outputs": [
    {
     "data": {
      "text/html": [
       "<h3>Version Information</h3><table><tr><th>Qiskit Software</th><th>Version</th></tr><tr><td><code>qiskit-terra</code></td><td>0.19.2</td></tr><tr><td><code>qiskit-aer</code></td><td>0.10.3</td></tr><tr><td><code>qiskit-ignis</code></td><td>0.7.0</td></tr><tr><td><code>qiskit-ibmq-provider</code></td><td>0.18.3</td></tr><tr><td><code>qiskit</code></td><td>0.34.2</td></tr><tr><th>System information</th></tr><tr><td>Python version</td><td>3.9.7</td></tr><tr><td>Python compiler</td><td>Clang 10.0.0 </td></tr><tr><td>Python build</td><td>default, Sep 16 2021 08:50:36</td></tr><tr><td>OS</td><td>Darwin</td></tr><tr><td>CPUs</td><td>4</td></tr><tr><td>Memory (Gb)</td><td>32.0</td></tr><tr><td colspan='2'>Tue Feb 22 20:06:31 2022 GMT</td></tr></table>"
      ],
      "text/plain": [
       "<IPython.core.display.HTML object>"
      ]
     },
     "metadata": {},
     "output_type": "display_data"
    }
   ],
   "source": [
    "import qiskit.tools.jupyter\n",
    "%qiskit_version_table"
   ]
  },
  {
   "cell_type": "code",
   "execution_count": null,
   "id": "280c070d",
   "metadata": {},
   "outputs": [],
   "source": []
  }
 ],
 "metadata": {
  "kernelspec": {
   "display_name": "Python 3 (ipykernel)",
   "language": "python",
   "name": "python3"
  },
  "language_info": {
   "codemirror_mode": {
    "name": "ipython",
    "version": 3
   },
   "file_extension": ".py",
   "mimetype": "text/x-python",
   "name": "python",
   "nbconvert_exporter": "python",
   "pygments_lexer": "ipython3",
   "version": "3.9.7"
  }
 },
 "nbformat": 4,
 "nbformat_minor": 5
}
