{
 "cells": [
  {
   "cell_type": "code",
   "execution_count": 1,
   "id": "1faf8bd5",
   "metadata": {},
   "outputs": [],
   "source": [
    "#Task 1\n",
    "from qiskit import QuantumCircuit, Aer, execute, QuantumRegister\n",
    "import qiskit.quantum_info as qi\n",
    "import math\n",
    "import numpy as np\n",
    "from qiskit.visualization import plot_histogram"
   ]
  },
  {
   "cell_type": "code",
   "execution_count": 2,
   "id": "2f9799de",
   "metadata": {},
   "outputs": [],
   "source": [
    "def cf(qc: QuantumCircuit, theta: float, ctrl: int, targ: int):\n",
    "    \"\"\"Add Controlled-F gate to quantum circuit\n",
    "    \"\"\"\n",
    "    cf = QuantumCircuit(2)\n",
    "    u = np.array([[1, 0, 0, 0], [0, np.cos(theta), 0,\n",
    "                                 np.sin(theta)], [0, 0, 1, 0],\n",
    "                  [0, np.sin(theta), 0, -np.cos(theta)]])\n",
    "    cf.unitary(u, [0, 1])\n",
    "    cf_gate = cf.to_gate(label='CF')\n",
    "    qc.append(cf_gate, [ctrl, targ])\n",
    "    return\n",
    "\n",
    "\n",
    "def w3(circuit: QuantumCircuit, qubit: int):\n",
    "    \"\"\"Create W state for 3 qubits\n",
    "    \"\"\"\n",
    "    qc = QuantumCircuit(3)\n",
    "    theta = np.arccos(1 / np.sqrt(3))\n",
    "    qc.cf(theta, 0, 1)\n",
    "    qc.cx(1, 0)\n",
    "    qc.ch(1, 2)\n",
    "    qc.cx(2, 1)\n",
    "    w3 = qc.to_gate(label='w3')\n",
    "    # Add the gate to your circuit which is passed as the first argument to cf function:\n",
    "    circuit.append(w3, [qubit, qubit + 1, qubit + 2])\n",
    "    return\n",
    "\n",
    "\n",
    "def w(self: QuantumCircuit, num_qubits: int, shift: int = 0):\n",
    "    \"\"\"Generates the recursion circuit to create a Wigner state:\n",
    "       Simplest case: 2 qubits\n",
    "       Base case:     3 qubits\n",
    "       General case: >3 qubits\n",
    "    \"\"\"\n",
    "    if num_qubits < 2:\n",
    "        raise ValueError('W state must has at least 2-qubit')\n",
    "    if num_qubits == 2:\n",
    "        # generate |+> state\n",
    "        self.x(0)\n",
    "        self.h(0)\n",
    "        self.cx(0, 1)\n",
    "        self.x(0)\n",
    "        return\n",
    "    if num_qubits == 3:\n",
    "        # Return the base function\n",
    "        self.w3(shift)\n",
    "        return\n",
    "    else:\n",
    "        # Theta value of F gate base on the circuit that it acts on\n",
    "        theta = np.arccos(1 / np.sqrt(self.num_qubits - shift))\n",
    "        self.cf(theta, shift, shift + 1)\n",
    "        # Recursion until the number of qubits equal 3\n",
    "        self.w(num_qubits - 1, self.num_qubits - (num_qubits - 1))\n",
    "        for i in range(1, num_qubits):\n",
    "            self.cnot(i + shift, shift)\n",
    "    return\n",
    "\n",
    "\n",
    "def w_state(self: QuantumCircuit, qubits: list):\n",
    "    \"\"\"Create n-qubit W state based on the its number of qubits\n",
    "    \"\"\"\n",
    "    wigner = QuantumCircuit(len(qubits))\n",
    "    wigner.x(0)\n",
    "    wigner.w(len(qubits))\n",
    "    qft_gate = wigner.to_gate(label=' W-'+str(len(qubits))+' ')\n",
    "    self.append(qft_gate, qargs = qubits)\n",
    "    return\n",
    "\n",
    "QuantumCircuit.w3 = w3\n",
    "QuantumCircuit.cf = cf\n",
    "QuantumCircuit.w_state = w_state\n",
    "QuantumCircuit.w = w"
   ]
  },
  {
   "cell_type": "code",
   "execution_count": 3,
   "id": "42529c92",
   "metadata": {},
   "outputs": [],
   "source": [
    "def qft_1_rot(qc, n):\n",
    "    \"\"\"Performs qft_dagger on the first n qubits in circuit (without swaps)\"\"\"\n",
    "    for j in range(n):\n",
    "        for m in range(j):\n",
    "            qc.cp(-np.pi/float(2**(j-m)), m, j)\n",
    "        qc.h(j)\n",
    "\n",
    "def swap_registers(circuit, n):\n",
    "    for qubit in range(n//2):\n",
    "        circuit.swap(qubit, n-qubit-1)\n",
    "    return circuit\n",
    "\n",
    "def qft_1(self: QuantumCircuit, where: list):\n",
    "    \"\"\"QFT on the first n qubits in circuit\"\"\"\n",
    "    n_q = len(where)\n",
    "    circuit = QuantumCircuit(n_q)\n",
    "    swap_registers(circuit, n_q)\n",
    "    qft_1_rot(circuit, n_q)\n",
    "    qft_gate = circuit.to_gate(label='qtf-1')\n",
    "    self.append(qft_gate, qargs = where)\n",
    "\n",
    "QuantumCircuit.qft_1 = qft_1"
   ]
  },
  {
   "cell_type": "code",
   "execution_count": 4,
   "id": "268bd725",
   "metadata": {},
   "outputs": [],
   "source": [
    "def add_number(self, bit_sum, ind, numbers):\n",
    "    qc = QuantumCircuit(bit_sum+1)\n",
    "    \n",
    "    bin_num = ('{0:0'+str(bit_sum)+'b}').format(numbers[ind])\n",
    "    \n",
    "    for j, c in enumerate(bin_num):\n",
    "        if c == '1':\n",
    "            for q in range(j+1):\n",
    "                qc.cp(2*np.pi/(2**(j-q+1)), 0, 1+q)\n",
    "                \n",
    "    gate = qc.to_gate(label='ADD-'+str(numbers[ind]))\n",
    "    where = [ind] + list(len(numbers)+np.arange(bit_sum))\n",
    "    self.append(gate, where)\n",
    "\n",
    "def adder(self, bit_sum: int, numbers):\n",
    "    shift = len(numbers)\n",
    "    for i in range(len(numbers)): \n",
    "        add_number(self, bit_sum, i, numbers)\n",
    "    \n",
    "QuantumCircuit.adder = adder"
   ]
  },
  {
   "cell_type": "code",
   "execution_count": 5,
   "id": "a17c45de",
   "metadata": {},
   "outputs": [],
   "source": [
    "def count(q):\n",
    "    qc = q.copy()\n",
    "    qc.measure_all()\n",
    "\n",
    "    backend = Aer.get_backend('qasm_simulator') \n",
    "    counts = execute(qc, backend, shots=2000).result().get_counts()\n",
    "\n",
    "    # filter\n",
    "    #filtered = {k: v for k, v in counts.items() if k[:bit_sol] == ('0'*bit_sol)}\n",
    "    return counts"
   ]
  },
  {
   "cell_type": "code",
   "execution_count": 6,
   "id": "83595015",
   "metadata": {},
   "outputs": [],
   "source": [
    "qc = QuantumCircuit(7)\n",
    "qc.adder(3, [1,1,1,4])"
   ]
  },
  {
   "cell_type": "code",
   "execution_count": 7,
   "id": "be8da323",
   "metadata": {
    "scrolled": true
   },
   "outputs": [
    {
     "data": {
      "image/png": "[encoded data removed]",
      "text/plain": [
       "<Figure size 568.197x445.48 with 1 Axes>"
      ]
     },
     "execution_count": 7,
     "metadata": {},
     "output_type": "execute_result"
    }
   ],
   "source": [
    "qc.draw('mpl')"
   ]
  },
  {
   "cell_type": "code",
   "execution_count": null,
   "id": "7d6b69d9",
   "metadata": {},
   "outputs": [],
   "source": []
  },
  {
   "cell_type": "code",
   "execution_count": null,
   "id": "920acb01",
   "metadata": {},
   "outputs": [],
   "source": []
  }
 ],
 "metadata": {
  "kernelspec": {
   "display_name": "Python 3 (ipykernel)",
   "language": "python",
   "name": "python3"
  },
  "language_info": {
   "codemirror_mode": {
    "name": "ipython",
    "version": 3
   },
   "file_extension": ".py",
   "mimetype": "text/x-python",
   "name": "python",
   "nbconvert_exporter": "python",
   "pygments_lexer": "ipython3",
   "version": "3.9.7"
  }
 },
 "nbformat": 4,
 "nbformat_minor": 5
}
